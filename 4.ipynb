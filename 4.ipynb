{
 "cells": [
  {
   "cell_type": "code",
   "execution_count": 2,
   "id": "a95c42c0",
   "metadata": {},
   "outputs": [],
   "source": [
    "#libraries\n",
    "import numpy as np\n",
    "from numpy import random\n",
    "import pandas as pd\n",
    "import matplotlib.pyplot as plt #no\n",
    "from tqdm import tqdm\n",
    "from scipy.special import expit\n"
   ]
  },
  {
   "cell_type": "code",
   "execution_count": 32,
   "id": "0c97658f",
   "metadata": {
    "scrolled": false
   },
   "outputs": [
    {
     "name": "stdout",
     "output_type": "stream",
     "text": [
      "0.7685247834990175\n"
     ]
    },
    {
     "data": {
      "image/png": "[encoded data removed]",
      "text/plain": [
       "<Figure size 640x480 with 1 Axes>"
      ]
     },
     "metadata": {},
     "output_type": "display_data"
    },
    {
     "data": {
      "text/html": [
       "<div>\n",
       "<style scoped>\n",
       "    .dataframe tbody tr th:only-of-type {\n",
       "        vertical-align: middle;\n",
       "    }\n",
       "\n",
       "    .dataframe tbody tr th {\n",
       "        vertical-align: top;\n",
       "    }\n",
       "\n",
       "    .dataframe thead th {\n",
       "        text-align: right;\n",
       "    }\n",
       "</style>\n",
       "<table border=\"1\" class=\"dataframe\">\n",
       "  <thead>\n",
       "    <tr style=\"text-align: right;\">\n",
       "      <th></th>\n",
       "      <th>score</th>\n",
       "      <th>outcome</th>\n",
       "    </tr>\n",
       "  </thead>\n",
       "  <tbody>\n",
       "    <tr>\n",
       "      <th>0</th>\n",
       "      <td>[0.7151893663724195]</td>\n",
       "      <td>1</td>\n",
       "    </tr>\n",
       "    <tr>\n",
       "      <th>1</th>\n",
       "      <td>[0.6027633760716439]</td>\n",
       "      <td>1</td>\n",
       "    </tr>\n",
       "    <tr>\n",
       "      <th>2</th>\n",
       "      <td>[0.5448831829968969]</td>\n",
       "      <td>1</td>\n",
       "    </tr>\n",
       "    <tr>\n",
       "      <th>3</th>\n",
       "      <td>[0.4236547993389047]</td>\n",
       "      <td>1</td>\n",
       "    </tr>\n",
       "    <tr>\n",
       "      <th>4</th>\n",
       "      <td>[0.6458941130666561]</td>\n",
       "      <td>1</td>\n",
       "    </tr>\n",
       "    <tr>\n",
       "      <th>...</th>\n",
       "      <td>...</td>\n",
       "      <td>...</td>\n",
       "    </tr>\n",
       "    <tr>\n",
       "      <th>995</th>\n",
       "      <td>[0.5149222019367684]</td>\n",
       "      <td>1</td>\n",
       "    </tr>\n",
       "    <tr>\n",
       "      <th>996</th>\n",
       "      <td>[0.9384120216943856]</td>\n",
       "      <td>0</td>\n",
       "    </tr>\n",
       "    <tr>\n",
       "      <th>997</th>\n",
       "      <td>[0.2286465509829455]</td>\n",
       "      <td>1</td>\n",
       "    </tr>\n",
       "    <tr>\n",
       "      <th>998</th>\n",
       "      <td>[0.6771411441114241]</td>\n",
       "      <td>1</td>\n",
       "    </tr>\n",
       "    <tr>\n",
       "      <th>999</th>\n",
       "      <td>[0.5928802707811576]</td>\n",
       "      <td>1</td>\n",
       "    </tr>\n",
       "  </tbody>\n",
       "</table>\n",
       "<p>1000 rows × 2 columns</p>\n",
       "</div>"
      ],
      "text/plain": [
       "                    score  outcome\n",
       "0    [0.7151893663724195]        1\n",
       "1    [0.6027633760716439]        1\n",
       "2    [0.5448831829968969]        1\n",
       "3    [0.4236547993389047]        1\n",
       "4    [0.6458941130666561]        1\n",
       "..                    ...      ...\n",
       "995  [0.5149222019367684]        1\n",
       "996  [0.9384120216943856]        0\n",
       "997  [0.2286465509829455]        1\n",
       "998  [0.6771411441114241]        1\n",
       "999  [0.5928802707811576]        1\n",
       "\n",
       "[1000 rows x 2 columns]"
      ]
     },
     "execution_count": 32,
     "metadata": {},
     "output_type": "execute_result"
    }
   ],
   "source": [
    "#calculate probability\n",
    "def logOR(sex):\n",
    "    logOR = np.exp(a+b*sex)\n",
    "    return logOR\n",
    "\n",
    "#obtain the outcome\n",
    "def study(P): \n",
    "    x = random.rand(1)\n",
    "    if x < P:\n",
    "        outcome = 1\n",
    "    else:\n",
    "        outcome = 0\n",
    "    return outcome\n",
    "\n",
    "#simulate data\n",
    "def project(a, b, n_samples):\n",
    "    np.random.seed(0)\n",
    "    # sex = np.array((0,1))\n",
    "    # OR = logOR(sex[1])/logOR(sex[0])\n",
    "    # P = OR/(OR+1)\n",
    "    # print(P)\n",
    "        \n",
    "    #build the dataset\n",
    "    # study(P)    \n",
    "    results = []\n",
    "    values = []\n",
    "\n",
    "    for i in range(1, n_samples + 1):\n",
    "        if i <= n_samples/2:\n",
    "            input_x = 0\n",
    "        else:\n",
    "            input_x = 1\n",
    "\n",
    "        proba = logOR(input_x)\n",
    "        output_y = study (proba) \n",
    "\n",
    "        data = study()\n",
    "        results.append(data[0])\n",
    "        values.append(data[1])\n",
    "    \n",
    "    dataset = pd.DataFrame({'score':values, 'outcome': results})\n",
    "    dataset.to_csv('dataset.csv', index=False)\n",
    "    \n",
    "    #plot\n",
    "    plt.scatter(sorted(values), sorted(results))\n",
    "    plt.plot(sorted(values), sorted(results))\n",
    "    plt.show()\n",
    "    \n",
    "    return dataset\n",
    "\n",
    "project(0.6, 1.2, 1000)"
   ]
  },
  {
   "cell_type": "code",
   "execution_count": 24,
   "id": "1122032a",
   "metadata": {},
   "outputs": [
    {
     "ename": "NameError",
     "evalue": "name 'values' is not defined",
     "output_type": "error",
     "traceback": [
      "\u001b[0;31m---------------------------------------------------------------------------\u001b[0m",
      "\u001b[0;31mNameError\u001b[0m                                 Traceback (most recent call last)",
      "Cell \u001b[0;32mIn[24], line 2\u001b[0m\n\u001b[1;32m      1\u001b[0m \u001b[38;5;66;03m#plot\u001b[39;00m\n\u001b[0;32m----> 2\u001b[0m plt\u001b[38;5;241m.\u001b[39mscatter(\u001b[38;5;28msorted\u001b[39m(\u001b[43mvalues\u001b[49m), \u001b[38;5;28msorted\u001b[39m(results))\n\u001b[1;32m      3\u001b[0m plt\u001b[38;5;241m.\u001b[39mplot(\u001b[38;5;28msorted\u001b[39m(values), \u001b[38;5;28msorted\u001b[39m(results))\n\u001b[1;32m      4\u001b[0m plt\u001b[38;5;241m.\u001b[39mshow()\n",
      "\u001b[0;31mNameError\u001b[0m: name 'values' is not defined"
     ]
    }
   ],
   "source": []
  },
  {
   "cell_type": "code",
   "execution_count": null,
   "id": "d4d18ead",
   "metadata": {},
   "outputs": [],
   "source": []
  }
 ],
 "metadata": {
  "kernelspec": {
   "display_name": "Python 3 (ipykernel)",
   "language": "python",
   "name": "python3"
  },
  "language_info": {
   "codemirror_mode": {
    "name": "ipython",
    "version": 3
   },
   "file_extension": ".py",
   "mimetype": "text/x-python",
   "name": "python",
   "nbconvert_exporter": "python",
   "pygments_lexer": "ipython3",
   "version": "3.10.10"
  }
 },
 "nbformat": 4,
 "nbformat_minor": 5
}
