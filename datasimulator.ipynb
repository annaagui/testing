{
 "cells": [
  {
   "cell_type": "code",
   "execution_count": 2,
   "id": "a95c42c0",
   "metadata": {},
   "outputs": [],
   "source": [
    "#libraries\n",
    "import numpy as np\n",
    "from numpy import random\n",
    "import pandas as pd\n",
    "import matplotlib.pyplot as plt #no\n",
    "from tqdm import tqdm\n",
    "from scipy.special import expit"
   ]
  },
  {
   "cell_type": "code",
   "execution_count": 8,
   "id": "0c97658f",
   "metadata": {
    "scrolled": false
   },
   "outputs": [
    {
     "data": {
      "image/png": "[encoded data removed]",
      "text/plain": [
       "<Figure size 640x480 with 1 Axes>"
      ]
     },
     "metadata": {},
     "output_type": "display_data"
    },
    {
     "data": {
      "text/plain": [
       "(     input  output\n",
       " 0        0       0\n",
       " 1        0       0\n",
       " 2        0       0\n",
       " 3        0       0\n",
       " 4        0       1\n",
       " ..     ...     ...\n",
       " 995      1       1\n",
       " 996      1       1\n",
       " 997      1       0\n",
       " 998      1       1\n",
       " 999      1       1\n",
       " \n",
       " [1000 rows x 2 columns],\n",
       "   gender  non suicidal  suicidal\n",
       " 0  women           234       266\n",
       " 1    men           108       392)"
      ]
     },
     "execution_count": 8,
     "metadata": {},
     "output_type": "execute_result"
    }
   ],
   "source": [
    "#calculate probability\n",
    "def sigmoid(a, b, input_x):\n",
    "    prob = np.exp(-(a+b*input_x))\n",
    "    probability = 1/(1+prob)\n",
    "    return probability\n",
    "\n",
    "#decison making\n",
    "def decision(P): \n",
    "    x = random.rand(1)\n",
    "    if x < P:\n",
    "        outcome = 1\n",
    "    else:\n",
    "        outcome = 0\n",
    "    return outcome\n",
    "\n",
    "#simulate data\n",
    "def simulate(a, b, n_samples):\n",
    "    random.seed(0)\n",
    "    output = []\n",
    "    input_a = []\n",
    "    zerosw = 0\n",
    "    zerosm = 0\n",
    "    onesw = 0\n",
    "    onesm = 0\n",
    "    \n",
    "    #obtain the output of a random input\n",
    "    for i in range(1, n_samples + 1):\n",
    "        if i <= n_samples/2:\n",
    "            input_x = 0\n",
    "            real = 'woman'\n",
    "        else:\n",
    "            input_x = 1\n",
    "            real = 'man'\n",
    "        output_y = decision(sigmoid(a, b, input_x))\n",
    "        \n",
    "        #store the results\n",
    "        if input_x == 0 and output_y == 0:\n",
    "            zerosw = zerosw + 1\n",
    "        if input_x == 0 and output_y == 1:\n",
    "            onesw = onesw + 1\n",
    "        if input_x == 1 and output_y == 0:\n",
    "            zerosm = zerosm + 1\n",
    "        if input_x == 1 and output_y == 1:\n",
    "            onesm = onesm + 1\n",
    "        \n",
    "        input_a.append(input_x)\n",
    "        output.append(output_y)\n",
    "    #build the datasets\n",
    "    dataset = pd.DataFrame({'input': input_a, 'output': output})\n",
    "    dataset.to_csv('dataset.csv', index=False)\n",
    "    dataproportion = pd.DataFrame({'gender': ['women', 'men'], 'non suicidal': \n",
    "                                   [zerosw, zerosm], 'suicidal': [onesw, onesm]})\n",
    "    dataplot = pd.DataFrame({'nonsuicidal': [zerosw, zerosm], 'suicidal': [onesw, onesm]})\n",
    "    \n",
    "    #plot\n",
    "    x = np.arange(len(dataproportion['gender']))  # the label locations\n",
    "    width = 0.25  # the width of the bars\n",
    "    multiplier = 0\n",
    "\n",
    "    fig, ax = plt.subplots(layout='constrained')\n",
    "\n",
    "    for attribute, measurement in dataplot.items():\n",
    "        offset = width * multiplier\n",
    "        rects = ax.bar(x + offset, measurement, width, label=attribute)\n",
    "        ax.bar_label(rects, padding=3)\n",
    "        multiplier += 1\n",
    "\n",
    "    # Add some text for labels, title and custom x-axis tick labels, etc.\n",
    "    ax.set_ylabel('Number of individuals')\n",
    "    ax.set_title('Proportion non suicidal/suicidal')\n",
    "    ax.set_xticks(x + width, dataproportion['gender'])\n",
    "    ax.legend(loc='upper left', ncols=3)\n",
    "    ax.set_ylim(0, 500)\n",
    "    plt.show()\n",
    "\n",
    "    return dataset, dataproportion\n",
    "\n",
    "simulate(0.1, 1.2, 1000)"
   ]
  },
  {
   "cell_type": "code",
   "execution_count": null,
   "id": "76808007",
   "metadata": {},
   "outputs": [],
   "source": []
  },
  {
   "cell_type": "code",
   "execution_count": null,
   "id": "6e9c70e9",
   "metadata": {},
   "outputs": [],
   "source": []
  }
 ],
 "metadata": {
  "kernelspec": {
   "display_name": "Python 3 (ipykernel)",
   "language": "python",
   "name": "python3"
  },
  "language_info": {
   "codemirror_mode": {
    "name": "ipython",
    "version": 3
   },
   "file_extension": ".py",
   "mimetype": "text/x-python",
   "name": "python",
   "nbconvert_exporter": "python",
   "pygments_lexer": "ipython3",
   "version": "3.10.10"
  }
 },
 "nbformat": 4,
 "nbformat_minor": 5
}
