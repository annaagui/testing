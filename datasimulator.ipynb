{
 "cells": [
  {
   "cell_type": "code",
   "execution_count": 2,
   "id": "a95c42c0",
   "metadata": {},
   "outputs": [],
   "source": [
    "#libraries\n",
    "import numpy as np\n",
    "import pandas as pd\n",
    "from numpy import random"
   ]
  },
  {
   "cell_type": "code",
   "execution_count": 38,
   "id": "7850d00b",
   "metadata": {},
   "outputs": [
    {
     "name": "stdout",
     "output_type": "stream",
     "text": [
      "OR women = 1.8221188003905089\n",
      "OR men = 6.049647464412945\n"
     ]
    }
   ],
   "source": [
    "#calculate OR\n",
    "a = 0.6\n",
    "b = 1.2\n",
    "sexw = 0 #women\n",
    "sexm = 1 #men\n",
    "logORw = a + b*sexw\n",
    "logORm = a + b*sexm\n",
    "ORw = np.exp(logORw)\n",
    "print (\"OR women =\", ORw)\n",
    "ORm = np.exp(logORm)\n",
    "print (\"OR men =\", ORm)"
   ]
  },
  {
   "cell_type": "code",
   "execution_count": 39,
   "id": "40f85527",
   "metadata": {},
   "outputs": [
    {
     "name": "stdout",
     "output_type": "stream",
     "text": [
      "3.320116922736547\n"
     ]
    }
   ],
   "source": [
    "#calculate probability of suicide\n",
    "probability = ORm/ORw\n",
    "print(probability)"
   ]
  },
  {
   "cell_type": "code",
   "execution_count": 40,
   "id": "4a8f84a4",
   "metadata": {},
   "outputs": [
    {
     "name": "stdout",
     "output_type": "stream",
     "text": [
      "0.6679883077263453\n",
      "[0.99542596] yes\n"
     ]
    }
   ],
   "source": [
    "#probability\n",
    "p = 1 - probability/10\n",
    "print(p)"
   ]
  },
  {
   "cell_type": "code",
   "execution_count": 85,
   "id": "0c97658f",
   "metadata": {},
   "outputs": [
    {
     "name": "stdout",
     "output_type": "stream",
     "text": [
      "[0.41008526] no\n"
     ]
    }
   ],
   "source": [
    "#simulate data\n",
    "def sort(): \n",
    "    outcome = random.rand(1)\n",
    "    if outcome > p:\n",
    "        print(outcome, \"yes\")\n",
    "    else:\n",
    "        print(outcome, \"no\")\n",
    "sort()"
   ]
  },
  {
   "cell_type": "code",
   "execution_count": 86,
   "id": "c2a00033",
   "metadata": {},
   "outputs": [
    {
     "ename": "TypeError",
     "evalue": "'int' object is not subscriptable",
     "output_type": "error",
     "traceback": [
      "\u001b[0;31m---------------------------------------------------------------------------\u001b[0m",
      "\u001b[0;31mTypeError\u001b[0m                                 Traceback (most recent call last)",
      "Cell \u001b[0;32mIn[86], line 10\u001b[0m\n\u001b[1;32m      8\u001b[0m     \u001b[38;5;28mprint\u001b[39m(logOR1)\n\u001b[1;32m      9\u001b[0m     \u001b[38;5;28;01mreturn\u001b[39;00m logOR1\n\u001b[0;32m---> 10\u001b[0m \u001b[43mlogOR\u001b[49m\u001b[43m(\u001b[49m\u001b[43msex\u001b[49m\u001b[43m)\u001b[49m\n",
      "Cell \u001b[0;32mIn[86], line 6\u001b[0m, in \u001b[0;36mlogOR\u001b[0;34m(sex)\u001b[0m\n\u001b[1;32m      4\u001b[0m \u001b[38;5;28;01mdef\u001b[39;00m \u001b[38;5;21mlogOR\u001b[39m(sex):\n\u001b[1;32m      5\u001b[0m     \u001b[38;5;28;01mfor\u001b[39;00m i \u001b[38;5;129;01min\u001b[39;00m sex:\n\u001b[0;32m----> 6\u001b[0m         logOR1 \u001b[38;5;241m=\u001b[39m a \u001b[38;5;241m+\u001b[39m b\u001b[38;5;241m*\u001b[39m\u001b[43msex\u001b[49m\u001b[43m[\u001b[49m\u001b[38;5;241;43m1\u001b[39;49m\u001b[43m]\u001b[49m\n\u001b[1;32m      7\u001b[0m         sex \u001b[38;5;241m=\u001b[39m i \u001b[38;5;241m+\u001b[39m \u001b[38;5;241m1\u001b[39m\n\u001b[1;32m      8\u001b[0m     \u001b[38;5;28mprint\u001b[39m(logOR1)\n",
      "\u001b[0;31mTypeError\u001b[0m: 'int' object is not subscriptable"
     ]
    }
   ],
   "source": [
    "a = 0.6\n",
    "b = 1.2\n",
    "sex = [0, 1]\n",
    "def logOR(sex):\n",
    "    for i in sex_list:\n",
    "        logOR1 = a + b*sex[1]\n",
    "        sex = i + 1\n",
    "    print(logOR1)\n",
    "    return logOR1\n",
    "logOR(sex)"
   ]
  },
  {
   "cell_type": "code",
   "execution_count": 89,
   "id": "48f44665",
   "metadata": {},
   "outputs": [
    {
     "data": {
      "text/plain": [
       "1.7999999999999998"
      ]
     },
     "execution_count": 89,
     "metadata": {},
     "output_type": "execute_result"
    }
   ],
   "source": [
    "#graphic representation\n",
    "a = 0.6\n",
    "b = 1.2\n",
    "sex = [0, 1]\n",
    "\n",
    "def logOR(sex_list):\n",
    "    for i in sex_list:\n",
    "        logOR1 = a + b * sex_list[1]\n",
    "        incremented_value = i + 1\n",
    "    return logOR1\n",
    "\n",
    "logOR(sex)"
   ]
  },
  {
   "cell_type": "code",
   "execution_count": null,
   "id": "463701f2",
   "metadata": {},
   "outputs": [],
   "source": []
  }
 ],
 "metadata": {
  "kernelspec": {
   "display_name": "Python (myenv)",
   "language": "python",
   "name": "myenv"
  },
  "language_info": {
   "codemirror_mode": {
    "name": "ipython",
    "version": 3
   },
   "file_extension": ".py",
   "mimetype": "text/x-python",
   "name": "python",
   "nbconvert_exporter": "python",
   "pygments_lexer": "ipython3",
   "version": "3.11.3"
  }
 },
 "nbformat": 4,
 "nbformat_minor": 5
}
